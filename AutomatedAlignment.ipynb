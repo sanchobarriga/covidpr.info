{
  "nbformat": 4,
  "nbformat_minor": 0,
  "metadata": {
    "colab": {
      "name": "AutomatedAlignment.ipynb",
      "provenance": [],
      "collapsed_sections": [],
      "mount_file_id": "152zsJ_I2zCQ7kyrKXmYNjsHD_winOrGX",
      "authorship_tag": "ABX9TyMYwsP50JZ5yRMgkcUYY+6O",
      "include_colab_link": true
    },
    "kernelspec": {
      "name": "python3",
      "display_name": "Python 3"
    }
  },
  "cells": [
    {
      "cell_type": "markdown",
      "metadata": {
        "id": "view-in-github",
        "colab_type": "text"
      },
      "source": [
        "<a href=\"https://colab.research.google.com/github/sanchobarriga/covidpr.info/blob/master/AutomatedAlignment.ipynb\" target=\"_parent\"><img src=\"https://colab.research.google.com/assets/colab-badge.svg\" alt=\"Open In Colab\"/></a>"
      ]
    },
    {
      "cell_type": "code",
      "metadata": {
        "id": "IOJY5MqFEYoV",
        "colab_type": "code",
        "colab": {
          "base_uri": "https://localhost:8080/",
          "height": 34
        },
        "outputId": "debf7f63-f264-47e9-e705-66eb4f4d0ff2"
      },
      "source": [
        "from google.colab import drive\n",
        "drive.mount('/content/drive')"
      ],
      "execution_count": null,
      "outputs": [
        {
          "output_type": "stream",
          "text": [
            "Drive already mounted at /content/drive; to attempt to forcibly remount, call drive.mount(\"/content/drive\", force_remount=True).\n"
          ],
          "name": "stdout"
        }
      ]
    },
    {
      "cell_type": "code",
      "metadata": {
        "id": "JbHZquLXEfjo",
        "colab_type": "code",
        "colab": {}
      },
      "source": [
        "import os\n",
        "os.chdir('/content/drive/My Drive')"
      ],
      "execution_count": null,
      "outputs": []
    },
    {
      "cell_type": "code",
      "metadata": {
        "id": "OMABFnyEFIUC",
        "colab_type": "code",
        "colab": {}
      },
      "source": [
        "#os.mkdir('COVIDPRData')\n",
        "os.chdir('/content/drive/My Drive/COVIDPRData')"
      ],
      "execution_count": null,
      "outputs": []
    },
    {
      "cell_type": "code",
      "metadata": {
        "id": "FD9Ly9e7FugI",
        "colab_type": "code",
        "colab": {
          "base_uri": "https://localhost:8080/",
          "height": 191
        },
        "outputId": "637d23b4-efb6-478b-9583-8e1a3784fd30"
      },
      "source": [
        "!pip install PyPDF2"
      ],
      "execution_count": null,
      "outputs": [
        {
          "output_type": "stream",
          "text": [
            "Collecting PyPDF2\n",
            "\u001b[?25l  Downloading https://files.pythonhosted.org/packages/b4/01/68fcc0d43daf4c6bdbc6b33cc3f77bda531c86b174cac56ef0ffdb96faab/PyPDF2-1.26.0.tar.gz (77kB)\n",
            "\r\u001b[K     |████▎                           | 10kB 19.6MB/s eta 0:00:01\r\u001b[K     |████████▌                       | 20kB 1.7MB/s eta 0:00:01\r\u001b[K     |████████████▊                   | 30kB 2.3MB/s eta 0:00:01\r\u001b[K     |█████████████████               | 40kB 2.5MB/s eta 0:00:01\r\u001b[K     |█████████████████████▏          | 51kB 2.0MB/s eta 0:00:01\r\u001b[K     |█████████████████████████▍      | 61kB 2.3MB/s eta 0:00:01\r\u001b[K     |█████████████████████████████▋  | 71kB 2.5MB/s eta 0:00:01\r\u001b[K     |████████████████████████████████| 81kB 2.2MB/s \n",
            "\u001b[?25hBuilding wheels for collected packages: PyPDF2\n",
            "  Building wheel for PyPDF2 (setup.py) ... \u001b[?25l\u001b[?25hdone\n",
            "  Created wheel for PyPDF2: filename=PyPDF2-1.26.0-cp36-none-any.whl size=61086 sha256=465067f0f1ec99a6a8fe5341a10c0e9688f978a74fa9a3581d3954115b4cc516\n",
            "  Stored in directory: /root/.cache/pip/wheels/53/84/19/35bc977c8bf5f0c23a8a011aa958acd4da4bbd7a229315c1b7\n",
            "Successfully built PyPDF2\n",
            "Installing collected packages: PyPDF2\n",
            "Successfully installed PyPDF2-1.26.0\n"
          ],
          "name": "stdout"
        }
      ]
    },
    {
      "cell_type": "code",
      "metadata": {
        "id": "X4TRvutUFTbC",
        "colab_type": "code",
        "colab": {}
      },
      "source": [
        "from PyPDF2 import PdfFileReader\n",
        "import pandas as pd"
      ],
      "execution_count": null,
      "outputs": []
    },
    {
      "cell_type": "code",
      "metadata": {
        "id": "PprvldQhLPYX",
        "colab_type": "code",
        "colab": {
          "base_uri": "https://localhost:8080/",
          "height": 72
        },
        "outputId": "3ffa581e-1c22-4ce2-f7dc-7823fe495445"
      },
      "source": [
        "from datetime import datetime\n",
        "meses = ['enero', 'febrero','marzo','abril','mayo','junio','julio','agosto','septiembre','octubre','noviembre','diciembre']\n",
        "a = datetime.now()\n",
        "date = a.strftime(\"%Y%m%d\")\n",
        "dia = str(a.day)\n",
        "mes = meses[a.month-1]\n",
        "annum = str(a.year)\n",
        "try:\n",
        "  os.mkdir(date)\n",
        "except:\n",
        "  1\n",
        "os.chdir('/content/drive/My Drive/COVIDPRData')\n",
        "os.chdir(date)\n",
        "url = 'http://www.salud.gov.pr/Estadisticas-Registros-y-Publicaciones/Estadsticas%20Casos%20Positivos%20COVID19%20'+mes+'%20'+annum+'/Informe%20Casos%20Positivos%20COVID-19%20('+dia+'%20'+mes+'%20'+annum+').pdf'\n",
        "print('Downloading:',end=' ')\n",
        "print(url)\n",
        "\n",
        "import requests\n",
        "\n",
        "r = requests.get(url, allow_redirects=True)\n",
        "\n",
        "open('report.pdf', 'wb').write(r.content)\n",
        "\n",
        "f = open('report.pdf', 'rb')\n",
        "pdf = PdfFileReader(f)\n",
        "information = pdf.getDocumentInfo()\n",
        "number_of_pages = pdf.getNumPages()\n",
        "print('Report length:',end=' ')\n",
        "print(number_of_pages)\n",
        "if number_of_pages == 12:\n",
        "  vals = [4,7,8,9,10,11]\n",
        "elif number_of_pages == 11:\n",
        "  vals = [3,6,7,8,9,10]\n",
        "names = ['PCR', 'Sero', 'IgM', 'IgM-IgG', 'IgG', 'Deaths']\n",
        "lims = [1200,600,600,600,600,50]\n",
        "outs = []\n",
        "for k in range(len(vals)):\n",
        "    i = vals[k]\n",
        "    rt = pdf.getPage(i)\n",
        "    text = rt.extractText()\n",
        "    listed = text.split('\\n')\n",
        "    nums = []\n",
        "    for j in listed:\n",
        "        try:\n",
        "            nums += [int(j)]\n",
        "            if nums[-1] - nums[-2] > lims[k]:\n",
        "                break\n",
        "        except:\n",
        "            1\n",
        "    outs += [nums]\n",
        "\n",
        "for j in range(len(names)):\n",
        "    #os.chdir(r'C:\\Users\\Masters-PC\\Documents\\GraduateSchool\\COVID19\\JAMA\\ReportesSalud')\n",
        "    i = names[j]\n",
        "    o = pd.DataFrame(outs[j])\n",
        "#    try:\n",
        "#        os.mkdir(pdf_path[:-4])\n",
        "#    except:\n",
        "#        1\n",
        "#    os.chdir(pdf_path[:-4])\n",
        "    o.to_csv (i+'.csv', index = None)\n"
      ],
      "execution_count": null,
      "outputs": [
        {
          "output_type": "stream",
          "text": [
            "Downloading: http://www.salud.gov.pr/Estadisticas-Registros-y-Publicaciones/Estadsticas%20Casos%20Positivos%20COVID19%20julio%202020/Informe%20Casos%20Positivos%20COVID-19%20(5%20julio%202020).pdf\n",
            "Report length: 12\n"
          ],
          "name": "stdout"
        }
      ]
    },
    {
      "cell_type": "code",
      "metadata": {
        "id": "JKufHyzD-SSI",
        "colab_type": "code",
        "colab": {}
      },
      "source": [
        "vals = [2,5]\n",
        "names = ['PCRs','Seros']\n",
        "lims = [600,600,600,600,600,50]\n",
        "outs = []\n",
        "for k in range(len(vals)):\n",
        "    if i in vals:\n",
        "        rt = pdf.getPage(i)\n",
        "        text = rt.extractText()\n",
        "        listed = text.split('\\n')\n",
        "        stars = []\n",
        "        mnums = []\n",
        "        for bt in range(len(listed)):\n",
        "            qt = listed[bt]\n",
        "            if '*' in qt:\n",
        "                stars += [qt]\n",
        "                mnums += [listed[bt+2]]\n",
        "        table = pd.DataFrame(columns = ['Town', 'Value'])\n",
        "        table.Town = stars\n",
        "        table.Value = mnums\n",
        "        table.to_csv('Muni' + names[k] +'.csv')\n"
      ],
      "execution_count": null,
      "outputs": []
    },
    {
      "cell_type": "code",
      "metadata": {
        "id": "DXV4ru9tdUHj",
        "colab_type": "code",
        "colab": {
          "base_uri": "https://localhost:8080/",
          "height": 72
        },
        "outputId": "fe3a8697-2342-4a5f-947b-2b77ca665061"
      },
      "source": [
        "print(names)\n",
        "print(outs[0])"
      ],
      "execution_count": null,
      "outputs": [
        {
          "output_type": "stream",
          "text": [
            "['PCR', 'Sero', 'IgM', 'IgM-IgG', 'IgG', 'Deaths']\n",
            "[1, 3, 3, 9, 7, 5, 5, 14, 11, 10, 34, 48, 41, 57, 49, 24, 12, 84, 56, 76, 53, 50, 15, 3, 51, 33, 23, 34, 3, 12, 4, 28, 24, 30, 27, 21, 9, 2, 18, 19, 27, 17, 16, 1, 3, 14, 15, 19, 23, 9, 6, 3, 6, 22, 20, 18, 23, 4, 15, 10, 9, 9, 11, 2, 2, 7, 5, 12, 5, 6, 3, 2, 5, 5, 8, 20, 27, 2, 1, 25, 17, 7, 9, 9, 3, 2, 9, 12, 14, 11, 15, 11, 7, 17, 18, 9, 18, 12, 3, 24, 33, 16, 26, 28, 5, 2, 46, 17, 1, 1846]\n"
          ],
          "name": "stdout"
        }
      ]
    },
    {
      "cell_type": "code",
      "metadata": {
        "id": "8V9ZFlV8RCym",
        "colab_type": "code",
        "colab": {}
      },
      "source": [
        "import numpy as np\n",
        "def nnz(cand):\n",
        "    #Find next non-zero number in a vector\n",
        "    return list(np.array(cand)-1==-1).index(False)\n",
        "def interPad(a2, N):\n",
        "    outs = [a2]\n",
        "    for i in range(N):\n",
        "        nouts = []\n",
        "        for j in outs:\n",
        "            for k in range(len(j)):\n",
        "                nouts += [np.insert(j, k, 0)]\n",
        "        outs = nouts\n",
        "    for j in range(len(outs)):\n",
        "        outs[j] = list(outs[j])\n",
        "    return outs\n",
        "\n",
        "def lazyPad(a1, a2):\n",
        "    zseq = np.append(a1,0)\n",
        "    start = list((zseq-1)==-1).index(False)\n",
        "    zseq = zseq[start:]\n",
        "    target = len(a1)+1\n",
        "    zseqs = interPad(a2,target-len(a2))\n",
        "    sqdiff = []\n",
        "    for k in range(len(zseqs)):\n",
        "        i = zseqs[k]\n",
        "        sqdiff += [sum((i-zseq)**2)]\n",
        "    return zseqs[sqdiff.index(min(sqdiff))]\n",
        "    \n",
        "def spreadPad(a1, a2):\n",
        "    count = 0 \n",
        "    zseq = np.append(a1,0)\n",
        "    bseq = np.append(a1,0)\n",
        "    start = -1\n",
        "    outtie = [0]*len(zseq)\n",
        "    for j in range(len(a2)):\n",
        "        i = a2[j]\n",
        "        if sum(bseq) == 0:\n",
        "            for e in range(len(a2)-j):\n",
        "                outtie[start+e+1] = a2[j+e]\n",
        "            break\n",
        "        k = list((bseq-1)==-1).index(False)\n",
        "        val = bseq[k]\n",
        "        if i == val:\n",
        "            count += 1\n",
        "            bseq = bseq[k+1:]\n",
        "            start = list(zseq).index(val, start + 1)\n",
        "            outtie[start] = i\n",
        "\n",
        "        else:\n",
        "            if ((count > 2)  & (k > 0)):\n",
        "                cands = interPad(a2[j:j+5-k],k)\n",
        "                if j + 5 - k > len(a2):\n",
        "                    lim = (j+5-k)-len(a2)\n",
        "                else:\n",
        "                    lim = 0\n",
        "                vals = []\n",
        "                for cn in range(len(cands)):\n",
        "                    cand = cands[cn]\n",
        "                    vals += [sum((zseq[start+1:start+6-lim]-np.array(cand))**2)]\n",
        "                    #print(vals)\n",
        "                win = vals.index(min(vals))\n",
        "                cand = cands[win]\n",
        "                if nnz(cand) == 1:\n",
        "                    bseq = bseq[k+1:]\n",
        "                    start = list(zseq).index(val, start + 1)\n",
        "                    outtie[start] = i\n",
        "                else:\n",
        "                    print('requires attention-1')\n",
        "                    break\n",
        "            elif (abs(i - val)/val) < 0.5:\n",
        "                count += 1\n",
        "                bseq = bseq[k+1:]\n",
        "                start = list(zseq).index(val, start + 1)\n",
        "                outtie[start] = i\n",
        "                continue\n",
        "            else:\n",
        "                for e in range(len(a2)-j):\n",
        "                    outtie[start+e+1] = a2[j+e]\n",
        "                print('requires attention-2')\n",
        "                break\n",
        "    return outtie\n"
      ],
      "execution_count": null,
      "outputs": []
    },
    {
      "cell_type": "code",
      "metadata": {
        "id": "fMnZDr3yw2rJ",
        "colab_type": "code",
        "colab": {
          "base_uri": "https://localhost:8080/",
          "height": 107
        },
        "outputId": "d597c924-7340-4890-faab-da4b32420a17"
      },
      "source": [
        "print(list(old))\n",
        "print(list(new))\n",
        "print('')\n",
        "print('')"
      ],
      "execution_count": null,
      "outputs": [
        {
          "output_type": "stream",
          "text": [
            "[0, 0, 0, 0, 0, 0, 0, 0, 0, 0, 0, 0, 0, 0, 0, 0, 0, 0, 0, 0, 0, 0, 0, 4, 0, 1, 1, 2, 1, 4, 6, 3, 0, 0, 1, 0, 12, 8, 10, 11, 9, 4, 0, 13, 20, 14, 21, 13, 4, 1, 9, 10, 18, 20, 29, 10, 3, 14, 20, 20, 19, 16, 7, 0, 18, 23, 9, 15, 15, 9, 1, 14, 19, 14, 11, 28, 6, 3, 8, 15, 14, 17, 34, 2, 4, 21, 18, 24, 9, 21, 14, 1, 11, 12, 7, 5, 5, 6, 1, 8, 7, 16, 15, 10, 4, 0, 8, 14, 11, 15, 9, 2, 0, 13, 8, 3, 0, 0, 0]\n",
            "[4, 1, 1, 2, 1, 4, 6, 3, 1, 12, 8, 10, 11, 9, 4, 13, 20, 14, 21, 13, 4, 1, 9, 10, 18, 20, 29, 10, 3, 14, 20, 20, 19, 16, 7, 18, 23, 9, 16, 15, 9, 1, 14, 19, 14, 11, 28, 6, 3, 8, 15, 14, 17, 34, 2, 4, 21, 18, 24, 9, 28, 14, 1, 11, 12, 7, 6, 5, 6, 1, 8, 7, 17, 15, 10, 4, 8, 14, 12, 15, 11, 2, 14, 13, 8]\n",
            "\n",
            "\n"
          ],
          "name": "stdout"
        }
      ]
    },
    {
      "cell_type": "code",
      "metadata": {
        "id": "Loa9mT4hYGuQ",
        "colab_type": "code",
        "colab": {
          "base_uri": "https://localhost:8080/",
          "height": 264
        },
        "outputId": "4fc710dd-4407-4889-8ba4-af39fc09967a"
      },
      "source": [
        "os.chdir('/content/drive/My Drive/COVIDPRData')\n",
        "yest = '20200704'\n",
        "today = '20200705'\n",
        "L = os.listdir(today)\n",
        "curves = pd.read_csv(yest+'/Curves.csv', encoding = 'utf-16', sep=None)\n",
        "print(L)\n",
        "print(os.getcwd())\n",
        "newcurve = pd.DataFrame()\n",
        "for k in range(len(L)):\n",
        "  i = L[k]\n",
        "  if '.csv' not in i:\n",
        "    continue\n",
        "  if i in ['MuniPCRs.csv', 'MuniSeros.csv','Deaths.csv','report.pdf', 'Curves.csv']:\n",
        "    continue\n",
        "  var = i[0:i.index('.')]\n",
        "  new = pd.read_csv(today+'/'+i)\n",
        "  new = new['0'][:-1]\n",
        "  old = curves[var]\n",
        "  if var == 'Sero':\n",
        "    if new[0]==11:\n",
        "      new = new[1:]\n",
        "  optpad = spreadPad(np.array(old),np.array(new))\n",
        "  print(optpad)\n",
        "  newcurve[var] = optpad\n",
        "export_csv = newcurve.to_csv (today+'/Curves.csv', index = None, header=True, encoding = 'utf-16') #Don't forget to add '.csv' at the end of the path"
      ],
      "execution_count": null,
      "outputs": [
        {
          "output_type": "stream",
          "text": [
            "['report.pdf', 'PCR.csv', 'Sero.csv', 'IgM.csv', 'IgM-IgG.csv', 'IgG.csv', 'Deaths.csv']\n",
            "/content/drive/My Drive/COVIDPRData\n",
            "requires attention-2\n",
            "[0, 1, 0, 0, 0, 3, 3, 0, 9, 7, 5, 5, 14, 11, 10, 34, 48, 41, 57, 49, 24, 12, 84, 56, 76, 53, 50, 15, 3, 51, 33, 23, 34, 3, 12, 4, 28, 24, 30, 27, 21, 9, 2, 18, 19, 27, 17, 16, 1, 3, 14, 15, 19, 23, 9, 6, 3, 6, 22, 20, 18, 23, 4, 15, 0, 10, 9, 9, 11, 2, 2, 7, 5, 12, 5, 6, 3, 2, 5, 5, 8, 20, 27, 2, 1, 25, 17, 7, 9, 9, 3, 2, 9, 12, 14, 11, 15, 11, 7, 17, 18, 9, 18, 12, 3, 0, 24, 33, 16, 26, 28, 5, 2, 46, 17, 1, 0, 0, 0, 0]\n",
            "requires attention-2\n",
            "[0, 0, 0, 0, 0, 0, 0, 0, 0, 0, 0, 0, 0, 0, 0, 0, 0, 0, 18, 28, 0, 0, 3, 10, 8, 9, 11, 3, 1, 15, 26, 43, 18, 7, 6, 3, 30, 54, 49, 48, 48, 17, 3, 72, 75, 88, 80, 95, 26, 7, 85, 86, 81, 100, 125, 30, 16, 124, 145, 116, 140, 151, 32, 8, 115, 134, 106, 137, 169, 49, 9, 105, 105, 101, 84, 168, 57, 25, 56, 127, 113, 114, 131, 31, 15, 148, 101, 125, 116, 124, 43, 14, 88, 94, 70, 71, 84, 33, 8, 80, 60, 97, 74, 63, 31, 6, 60, 57, 55, 59, 33, 18, 5, 46, 70, 46, 0, 0, 0, 0]\n",
            "requires attention-2\n",
            "[0, 0, 0, 0, 0, 0, 0, 0, 0, 0, 0, 0, 0, 0, 0, 0, 0, 0, 18, 28, 0, 0, 3, 6, 8, 5, 10, 1, 0, 10, 11, 26, 11, 6, 4, 2, 8, 30, 28, 21, 27, 8, 1, 34, 31, 43, 32, 49, 13, 2, 34, 40, 43, 43, 63, 14, 7, 52, 68, 61, 66, 85, 13, 5, 57, 62, 57, 81, 107, 24, 3, 47, 54, 48, 40, 84, 29, 8, 20, 54, 49, 49, 60, 15, 6, 72, 43, 57, 53, 58, 16, 9, 51, 58, 39, 42, 40, 15, 3, 43, 33, 50, 32, 30, 15, 4, 34, 24, 26, 23, 7, 5, 2, 13, 23, 14, 0, 0, 0, 0]\n",
            "requires attention-2\n",
            "[0, 0, 0, 0, 0, 0, 0, 0, 0, 0, 0, 0, 0, 0, 0, 0, 0, 0, 0, 0, 0, 0, 0, 4, 0, 1, 1, 2, 1, 4, 6, 3, 0, 0, 1, 0, 12, 8, 10, 11, 9, 4, 0, 13, 20, 14, 21, 13, 4, 1, 9, 10, 18, 20, 29, 10, 3, 14, 20, 20, 19, 16, 7, 0, 18, 23, 9, 16, 15, 9, 1, 14, 19, 14, 11, 28, 6, 3, 8, 15, 14, 17, 34, 2, 4, 21, 18, 24, 9, 28, 14, 1, 11, 12, 7, 6, 5, 6, 1, 8, 7, 17, 15, 10, 4, 0, 8, 14, 12, 15, 11, 2, 0, 14, 13, 8, 0, 0, 0, 0]\n",
            "requires attention-2\n",
            "[0, 0, 0, 0, 0, 0, 0, 0, 0, 0, 0, 0, 0, 0, 0, 0, 0, 0, 0, 0, 0, 0, 0, 0, 0, 3, 0, 0, 0, 1, 9, 14, 5, 0, 0, 1, 9, 15, 11, 16, 12, 5, 2, 23, 24, 30, 27, 33, 9, 4, 42, 36, 20, 37, 33, 6, 6, 58, 57, 35, 55, 50, 12, 3, 39, 49, 40, 39, 47, 16, 5, 44, 32, 39, 33, 56, 22, 14, 28, 58, 50, 48, 37, 14, 5, 55, 40, 44, 54, 38, 13, 4, 26, 24, 24, 23, 39, 12, 4, 29, 20, 30, 27, 23, 12, 2, 18, 19, 17, 21, 15, 11, 3, 19, 34, 24, 0, 0, 0, 0]\n"
          ],
          "name": "stdout"
        },
        {
          "output_type": "stream",
          "text": [
            "ParserWarning: Falling back to the 'python' engine because the 'c' engine does not support sep=None with delim_whitespace=False; you can avoid this warning by specifying engine='python'. [ipykernel_launcher.py:5]\n"
          ],
          "name": "stderr"
        }
      ]
    },
    {
      "cell_type": "code",
      "metadata": {
        "id": "-Lb_bhoA9rg-",
        "colab_type": "code",
        "colab": {}
      },
      "source": [
        ""
      ],
      "execution_count": null,
      "outputs": []
    }
  ]
}